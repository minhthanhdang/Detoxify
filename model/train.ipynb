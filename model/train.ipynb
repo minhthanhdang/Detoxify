{
 "cells": [
  {
   "cell_type": "code",
   "execution_count": null,
   "metadata": {},
   "outputs": [],
   "source": [
    "import pandas as pd\n",
    "import numpy as np\n",
    "import matplotlib.pyplot as plt\n",
    "import os\n",
    "import re\n",
    "import torch\n",
    "from torch import nn, optim\n",
    "from tqdm import tqdm\n",
    "from sklearn.metrics import accuracy_score, classification_report, confusion_matrix, precision_score, recall_score, f1_score"
   ]
  },
  {
   "cell_type": "code",
   "execution_count": 2,
   "metadata": {},
   "outputs": [],
   "source": [
    "# Load the data from csv file. This is the balanced version of the dataset.\n",
    "data = pd.read_csv(os.path.join('data', 'train.csv'))"
   ]
  },
  {
   "cell_type": "code",
   "execution_count": 3,
   "metadata": {},
   "outputs": [
    {
     "name": "stdout",
     "output_type": "stream",
     "text": [
      "(159571, 8)\n"
     ]
    }
   ],
   "source": [
    "print(data.shape)\n",
    "l = \"toxic\"\n",
    "t = \"comment_text\""
   ]
  },
  {
   "cell_type": "code",
   "execution_count": 4,
   "metadata": {},
   "outputs": [
    {
     "name": "stdout",
     "output_type": "stream",
     "text": [
      "                 id                                       comment_text  toxic  \\\n",
      "0  0000997932d777bf  Explanation\\nWhy the edits made under my usern...      0   \n",
      "1  000103f0d9cfb60f  D'aww! He matches this background colour I'm s...      0   \n",
      "2  000113f07ec002fd  Hey man, I'm really not trying to edit war. It...      0   \n",
      "3  0001b41b1c6bb37e  \"\\nMore\\nI can't make any real suggestions on ...      0   \n",
      "4  0001d958c54c6e35  You, sir, are my hero. Any chance you remember...      0   \n",
      "\n",
      "   severe_toxic  obscene  threat  insult  identity_hate  \n",
      "0             0        0       0       0              0  \n",
      "1             0        0       0       0              0  \n",
      "2             0        0       0       0              0  \n",
      "3             0        0       0       0              0  \n",
      "4             0        0       0       0              0  \n"
     ]
    }
   ],
   "source": [
    "print(data.head())"
   ]
  },
  {
   "cell_type": "code",
   "execution_count": 15,
   "metadata": {},
   "outputs": [],
   "source": [
    "data.dropna(subset=[t], inplace=True)\n",
    "data = data[data[t].str.len() > 1]"
   ]
  },
  {
   "cell_type": "code",
   "execution_count": 5,
   "metadata": {},
   "outputs": [
    {
     "data": {
      "text/plain": [
       "toxic\n",
       "0    144277\n",
       "1     15294\n",
       "Name: count, dtype: int64"
      ]
     },
     "execution_count": 5,
     "metadata": {},
     "output_type": "execute_result"
    }
   ],
   "source": [
    "data[\"toxic\"].value_counts()"
   ]
  },
  {
   "cell_type": "code",
   "execution_count": 6,
   "metadata": {},
   "outputs": [
    {
     "data": {
      "text/html": [
       "<div>\n",
       "<style scoped>\n",
       "    .dataframe tbody tr th:only-of-type {\n",
       "        vertical-align: middle;\n",
       "    }\n",
       "\n",
       "    .dataframe tbody tr th {\n",
       "        vertical-align: top;\n",
       "    }\n",
       "\n",
       "    .dataframe thead th {\n",
       "        text-align: right;\n",
       "    }\n",
       "</style>\n",
       "<table border=\"1\" class=\"dataframe\">\n",
       "  <thead>\n",
       "    <tr style=\"text-align: right;\">\n",
       "      <th></th>\n",
       "      <th>comment_text</th>\n",
       "      <th>toxic</th>\n",
       "    </tr>\n",
       "  </thead>\n",
       "  <tbody>\n",
       "    <tr>\n",
       "      <th>0</th>\n",
       "      <td>Explanation\\nWhy the edits made under my usern...</td>\n",
       "      <td>0</td>\n",
       "    </tr>\n",
       "    <tr>\n",
       "      <th>1</th>\n",
       "      <td>D'aww! He matches this background colour I'm s...</td>\n",
       "      <td>0</td>\n",
       "    </tr>\n",
       "    <tr>\n",
       "      <th>2</th>\n",
       "      <td>Hey man, I'm really not trying to edit war. It...</td>\n",
       "      <td>0</td>\n",
       "    </tr>\n",
       "    <tr>\n",
       "      <th>3</th>\n",
       "      <td>\"\\nMore\\nI can't make any real suggestions on ...</td>\n",
       "      <td>0</td>\n",
       "    </tr>\n",
       "    <tr>\n",
       "      <th>4</th>\n",
       "      <td>You, sir, are my hero. Any chance you remember...</td>\n",
       "      <td>0</td>\n",
       "    </tr>\n",
       "  </tbody>\n",
       "</table>\n",
       "</div>"
      ],
      "text/plain": [
       "                                        comment_text  toxic\n",
       "0  Explanation\\nWhy the edits made under my usern...      0\n",
       "1  D'aww! He matches this background colour I'm s...      0\n",
       "2  Hey man, I'm really not trying to edit war. It...      0\n",
       "3  \"\\nMore\\nI can't make any real suggestions on ...      0\n",
       "4  You, sir, are my hero. Any chance you remember...      0"
      ]
     },
     "execution_count": 6,
     "metadata": {},
     "output_type": "execute_result"
    }
   ],
   "source": [
    "# Clean data: remove HTML tags and emojis\n",
    "\n",
    "def clean_text(row):\n",
    "  text = row[t]\n",
    "  # remove HTML tags\n",
    "  text = re.sub(r'<.*?>', '', text)\n",
    "  # remove emojis\n",
    "  text = text.encode('ascii', 'ignore').decode('ascii')\n",
    "  return pd.Series([text, row[l]], index=[t, l])\n",
    "\n",
    "data = data.apply(clean_text, axis=1)\n",
    "\n",
    "data.head()"
   ]
  },
  {
   "cell_type": "code",
   "execution_count": 9,
   "metadata": {},
   "outputs": [
    {
     "name": "stdout",
     "output_type": "stream",
     "text": [
      "hello world \n"
     ]
    }
   ],
   "source": [
    "# Test function\n",
    "def clean_text(text):\n",
    "  # remove HTML tags\n",
    "  text = re.sub(r'<.*?>', '', text)\n",
    "  # remove emojis\n",
    "  text = text.encode('ascii', 'ignore').decode('ascii')\n",
    "  return text\n",
    "\n",
    "print(clean_text('<p>hello world </p>'))"
   ]
  },
  {
   "cell_type": "code",
   "execution_count": 7,
   "metadata": {},
   "outputs": [
    {
     "name": "stderr",
     "output_type": "stream",
     "text": [
      "/opt/anaconda3/envs/ai_py311/lib/python3.11/site-packages/tqdm/auto.py:21: TqdmWarning: IProgress not found. Please update jupyter and ipywidgets. See https://ipywidgets.readthedocs.io/en/stable/user_install.html\n",
      "  from .autonotebook import tqdm as notebook_tqdm\n"
     ]
    }
   ],
   "source": [
    "from sklearn.model_selection import train_test_split\n",
    "from torch.utils.data import Dataset, DataLoader\n",
    "from transformers import BertModel, BertTokenizer"
   ]
  },
  {
   "cell_type": "code",
   "execution_count": null,
   "metadata": {},
   "outputs": [],
   "source": [
    "train, validation = train_test_split(data, test_size=0.2, stratify=data[l], random_state=42)\n",
    "\n",
    "class HateSpeechDataset(Dataset):\n",
    "    \n",
    "  def __init__(self, data):\n",
    "      \n",
    "    # Initialize BERT tokenizer\n",
    "    self.tokenizer = BertTokenizer.from_pretrained('bert-base-uncased')        \n",
    "    self.data = data\n",
    "      \n",
    "      \n",
    "  def __len__(self):\n",
    "      return len(self.data)\n",
    "  \n",
    "  def __getitem__(self, idx):\n",
    "    example = self.data.iloc[idx]\n",
    "\n",
    "    text = example[t]\n",
    "    label = example[l]\n",
    "\n",
    "    # Tokenize the text\n",
    "    encoding = self.tokenizer.encode_plus(text, padding='max_length', truncation=True, max_length=64, return_tensors='pt')\n",
    "    return {\n",
    "      \"input_ids\": encoding[\"input_ids\"].squeeze(0),\n",
    "      \"attention_mask\": encoding[\"attention_mask\"], ##.unsqueeze(0).int(),\n",
    "      \"label\": label,\n",
    "    }\n",
    "  "
   ]
  },
  {
   "cell_type": "code",
   "execution_count": 9,
   "metadata": {},
   "outputs": [],
   "source": [
    "dataset_train = HateSpeechDataset(train)\n",
    "dataset_val = HateSpeechDataset(validation)\n",
    "\n",
    "batch_size = 128\n",
    "dataloader_train = DataLoader(\n",
    "  dataset_train,\n",
    "  batch_size=batch_size,\n",
    "  shuffle=True,\n",
    "  num_workers=0,\n",
    "  collate_fn=lambda x: {\n",
    "    \"input_ids\": torch.stack([item[\"input_ids\"] for item in x]),\n",
    "    \"attention_mask\": torch.stack([item[\"attention_mask\"] for item in x]),\n",
    "    \"labels\": torch.tensor([item[\"label\"] for item in x])\n",
    "  },\n",
    "  #collate_fn=data_collator,\n",
    "  pin_memory=True,\n",
    ")\n",
    "\n",
    "dataloader_val = DataLoader(\n",
    "    dataset_val,\n",
    "    batch_size=batch_size,\n",
    "    shuffle=True,\n",
    "    num_workers=0,\n",
    "    collate_fn=lambda x: {\n",
    "        \"input_ids\": torch.stack([item[\"input_ids\"] for item in x]),\n",
    "        \"attention_mask\": torch.stack([item[\"attention_mask\"] for item in x]),\n",
    "        \"labels\": torch.tensor([item[\"label\"] for item in x])\n",
    "    },\n",
    "    #collate_fn=data_collator,\n",
    "    pin_memory=True,\n",
    ")"
   ]
  },
  {
   "cell_type": "code",
   "execution_count": null,
   "metadata": {},
   "outputs": [],
   "source": [
    "class BERTClassifier(nn.Module):\n",
    "    \n",
    "  def __init__(self):\n",
    "      \n",
    "    # Specify network layers\n",
    "    super(BERTClassifier, self).__init__()\n",
    "    self.bert = BertModel.from_pretrained('bert-base-uncased')\n",
    "    \n",
    "    self.avg_pool = nn.AdaptiveAvgPool1d(1)\n",
    "    \n",
    "    self.linear = nn.Linear(self.bert.config.hidden_size, 1)\n",
    "    \n",
    "    # Define dropout\n",
    "    self.dropout = nn.Dropout(0.1)\n",
    "    \n",
    "    # Freeze BERT layers\n",
    "    for n, p in self.bert.named_parameters():\n",
    "      p.requires_grad = False\n",
    "          \n",
    "  def forward(self, text, masks):\n",
    "    \n",
    "    output_bert = self.bert(text, attention_mask=masks).last_hidden_state\n",
    "    output_bert = self.avg_pool(output_bert.transpose(1, 2)).squeeze(-1)\n",
    "    \n",
    "    return self.linear(self.dropout(output_bert))"
   ]
  },
  {
   "cell_type": "code",
   "execution_count": 11,
   "metadata": {},
   "outputs": [],
   "source": [
    "model = BERTClassifier()\n",
    "optimizer = optim.Adam(model.parameters(), lr=0.001) #optim.AdamW(model.parameters(), lr=5e-5) #\n",
    "criterion = nn.BCEWithLogitsLoss()"
   ]
  },
  {
   "cell_type": "code",
   "execution_count": null,
   "metadata": {},
   "outputs": [
    {
     "name": "stderr",
     "output_type": "stream",
     "text": [
      "/var/folders/t8/rdxqv77j1bz5zsm7dd6c_szh0000gn/T/ipykernel_73968/123162767.py:1: FutureWarning: You are using `torch.load` with `weights_only=False` (the current default value), which uses the default pickle module implicitly. It is possible to construct malicious pickle data which will execute arbitrary code during unpickling (See https://github.com/pytorch/pytorch/blob/main/SECURITY.md#untrusted-models for more details). In a future release, the default value for `weights_only` will be flipped to `True`. This limits the functions that could be executed during unpickling. Arbitrary objects will no longer be allowed to be loaded via this mode unless they are explicitly allowlisted by the user via `torch.serialization.add_safe_globals`. We recommend you start setting `weights_only=True` for any use case where you don't have full control of the loaded file. Please open an issue on GitHub for any issues related to this experimental feature.\n",
      "  model.load_state_dict(torch.load(\"model/v7/bert_classifier.pth\"))\n"
     ]
    },
    {
     "data": {
      "text/plain": [
       "<All keys matched successfully>"
      ]
     },
     "execution_count": 12,
     "metadata": {},
     "output_type": "execute_result"
    }
   ],
   "source": [
    "# Optional train from previous checkpoint\n",
    "# model.load_state_dict(torch.load(\"model/v7/bert_classifier.pth\"))"
   ]
  },
  {
   "cell_type": "code",
   "execution_count": 13,
   "metadata": {},
   "outputs": [
    {
     "data": {
      "text/plain": [
       "device(type='mps')"
      ]
     },
     "execution_count": 13,
     "metadata": {},
     "output_type": "execute_result"
    }
   ],
   "source": [
    "device = torch.device('cuda' if torch.cuda.is_available() else 'mps' if torch.backends.mps.is_available() else 'cpu')\n",
    "device"
   ]
  },
  {
   "cell_type": "code",
   "execution_count": 14,
   "metadata": {},
   "outputs": [],
   "source": [
    "epochs = 3"
   ]
  },
  {
   "cell_type": "code",
   "execution_count": 15,
   "metadata": {},
   "outputs": [
    {
     "name": "stdout",
     "output_type": "stream",
     "text": [
      "Start training epoch 0...\n"
     ]
    },
    {
     "name": "stderr",
     "output_type": "stream",
     "text": [
      "100%|██████████| 998/998 [04:47<00:00,  3.47it/s]\n"
     ]
    },
    {
     "name": "stdout",
     "output_type": "stream",
     "text": [
      "Start validation...\n",
      "Metrics after Epoch 0\n",
      "Accuracy : 0.9482375058749805\n",
      "Presision: 0.825\n",
      "Recall: 0.584\n",
      "F1: 0.684\n",
      "   \n",
      "Start training epoch 1...\n"
     ]
    },
    {
     "name": "stderr",
     "output_type": "stream",
     "text": [
      "100%|██████████| 998/998 [04:52<00:00,  3.41it/s]\n"
     ]
    },
    {
     "name": "stdout",
     "output_type": "stream",
     "text": [
      "Start validation...\n",
      "Metrics after Epoch 1\n",
      "Accuracy : 0.950963496788344\n",
      "Presision: 0.834\n",
      "Recall: 0.61\n",
      "F1: 0.705\n",
      "   \n",
      "Start training epoch 2...\n"
     ]
    },
    {
     "name": "stderr",
     "output_type": "stream",
     "text": [
      "100%|██████████| 998/998 [04:56<00:00,  3.37it/s]\n"
     ]
    },
    {
     "name": "stdout",
     "output_type": "stream",
     "text": [
      "Start validation...\n",
      "Metrics after Epoch 2\n",
      "Accuracy : 0.9520601597994673\n",
      "Presision: 0.831\n",
      "Recall: 0.627\n",
      "F1: 0.715\n",
      "   \n"
     ]
    }
   ],
   "source": [
    "model.to(device)\n",
    "\n",
    "val_losses = []\n",
    "train_losses = []\n",
    "\n",
    "# Train model\n",
    "for epoch_i in range(0, epochs):\n",
    "    \n",
    "  # ========================================\n",
    "  #               Training\n",
    "  # ========================================\n",
    "\n",
    "  model.train()\n",
    "  print(f\"Start training epoch {epoch_i}...\")\n",
    "  total_train_loss = 0\n",
    "  for i, batch in enumerate(tqdm(dataloader_train)):\n",
    "  \n",
    "    optimizer.zero_grad()\n",
    "    \n",
    "    input_ids = batch['input_ids'].to(device)\n",
    "    masks = batch['attention_mask'].to(device)\n",
    "    label = batch['labels'].to(device) \n",
    "\n",
    "    output = model(input_ids, masks)\n",
    "    loss = criterion(output.squeeze(), label.float())\n",
    "\n",
    "    loss.backward()\n",
    "    \n",
    "    # Clip the norm of the gradients to 1.0 to prevent the \"exploding gradients\".\n",
    "    #torch.nn.utils.clip_grad_norm_(model.parameters(), 1.0)\n",
    "    optimizer.step()\n",
    "    \n",
    "    total_train_loss += loss.item()\n",
    "      \n",
    "  avg_train_loss = total_train_loss / len(dataloader_train)\n",
    "  train_losses.append(avg_train_loss)\n",
    "  # ========================================\n",
    "  #               Validation\n",
    "  # ========================================\n",
    "  \n",
    "  model.eval()\n",
    "  print(\"Start validation...\")\n",
    "  y_true_bert = list()\n",
    "  y_pred_bert = list()\n",
    "  \n",
    "  total_eval_loss = 0.0\n",
    "  with torch.no_grad():\n",
    "    for batch in dataloader_val:\n",
    "        input_ids = batch['input_ids'].to(device)\n",
    "        masks = batch['attention_mask'].to(device)\n",
    "        label = batch['labels'].to(device)\n",
    "        \n",
    "        output = model(input_ids, masks)\n",
    "        max_output = (torch.sigmoid(output).cpu().numpy().reshape(-1)>= 0.5).astype(int)\n",
    "        y_true_bert.extend(label.tolist())\n",
    "        y_pred_bert.extend(max_output.tolist())\n",
    "        \n",
    "        loss_v = criterion(output.squeeze(), label.float())\n",
    "        total_eval_loss += loss.item()\n",
    "  avg_val_loss = total_eval_loss / len(dataloader_val)\n",
    "  val_losses.append(avg_val_loss)\n",
    "  \n",
    "  print(f\"Metrics after Epoch {epoch_i}\")     \n",
    "  print(f\"Accuracy : {accuracy_score(y_true_bert, y_pred_bert)}\")\n",
    "  print(f\"Presision: {np.round(precision_score(y_true_bert, y_pred_bert),3)}\")\n",
    "  print(f\"Recall: {np.round(recall_score(y_true_bert, y_pred_bert),3)}\") \n",
    "  print(f\"F1: {np.round(f1_score(y_true_bert, y_pred_bert),3)}\")\n",
    "  print(\"   \")  "
   ]
  },
  {
   "cell_type": "code",
   "execution_count": 16,
   "metadata": {},
   "outputs": [
    {
     "name": "stdout",
     "output_type": "stream",
     "text": [
      "Test accuracy: 0.95\n",
      "\n",
      "Classification report: \n",
      "               precision    recall  f1-score   support\n",
      "\n",
      "           0       0.96      0.99      0.97     28856\n",
      "           1       0.83      0.63      0.71      3059\n",
      "\n",
      "    accuracy                           0.95     31915\n",
      "   macro avg       0.90      0.81      0.84     31915\n",
      "weighted avg       0.95      0.95      0.95     31915\n",
      "\n",
      "\n",
      "Confusion matrix: \n",
      "\n"
     ]
    },
    {
     "data": {
      "text/html": [
       "<div>\n",
       "<style scoped>\n",
       "    .dataframe tbody tr th:only-of-type {\n",
       "        vertical-align: middle;\n",
       "    }\n",
       "\n",
       "    .dataframe tbody tr th {\n",
       "        vertical-align: top;\n",
       "    }\n",
       "\n",
       "    .dataframe thead th {\n",
       "        text-align: right;\n",
       "    }\n",
       "</style>\n",
       "<table border=\"1\" class=\"dataframe\">\n",
       "  <thead>\n",
       "    <tr style=\"text-align: right;\">\n",
       "      <th></th>\n",
       "      <th>Predicted: Unhateful</th>\n",
       "      <th>Predicted: Hateful</th>\n",
       "    </tr>\n",
       "  </thead>\n",
       "  <tbody>\n",
       "    <tr>\n",
       "      <th>Actual: Unhateful</th>\n",
       "      <td>28467</td>\n",
       "      <td>389</td>\n",
       "    </tr>\n",
       "    <tr>\n",
       "      <th>Actual: Hateful</th>\n",
       "      <td>1141</td>\n",
       "      <td>1918</td>\n",
       "    </tr>\n",
       "  </tbody>\n",
       "</table>\n",
       "</div>"
      ],
      "text/plain": [
       "                   Predicted: Unhateful  Predicted: Hateful\n",
       "Actual: Unhateful                 28467                 389\n",
       "Actual: Hateful                    1141                1918"
      ]
     },
     "metadata": {},
     "output_type": "display_data"
    }
   ],
   "source": [
    "print('Test accuracy: {:.2f}'.format(accuracy_score(y_true_bert, y_pred_bert)))\n",
    "print('\\nClassification report: \\n', classification_report(y_true_bert, y_pred_bert))\n",
    "print('\\nConfusion matrix: \\n')\n",
    "display(pd.DataFrame({\"Predicted: Unhateful\": confusion_matrix(y_true_bert, y_pred_bert)[:, 0], \n",
    "              \"Predicted: Hateful\": confusion_matrix(y_true_bert, y_pred_bert)[:, 1]},\n",
    "             index=['Actual: Unhateful', 'Actual: Hateful']))"
   ]
  },
  {
   "cell_type": "code",
   "execution_count": 17,
   "metadata": {},
   "outputs": [
    {
     "data": {
      "image/png": "[encoded data removed]",
      "text/plain": [
       "<Figure size 1000x500 with 1 Axes>"
      ]
     },
     "metadata": {},
     "output_type": "display_data"
    }
   ],
   "source": [
    "plt.figure(figsize=(10,5))\n",
    "plt.title(\"Training and Validation Loss\")\n",
    "plt.plot(val_losses,label=\"val\")\n",
    "plt.plot(train_losses,label=\"train\")\n",
    "plt.xlabel(\"iterations\")\n",
    "plt.ylabel(\"Loss\")\n",
    "plt.legend()\n",
    "plt.show()"
   ]
  },
  {
   "cell_type": "code",
   "execution_count": 18,
   "metadata": {},
   "outputs": [
    {
     "name": "stdout",
     "output_type": "stream",
     "text": [
      "Model state_dict saved to model/v8/bert_classifier.pth\n"
     ]
    }
   ],
   "source": [
    "version = \"v8\"\n",
    "save_path = os.path.join('model', version, 'bert_classifier.pth')\n",
    "# Save the model's state_dict\n",
    "torch.save(model.state_dict(), save_path)\n",
    "print(\"Model state_dict saved to \" + str(save_path))\n"
   ]
  }
 ],
 "metadata": {
  "kernelspec": {
   "display_name": "ai_py311",
   "language": "python",
   "name": "python3"
  },
  "language_info": {
   "codemirror_mode": {
    "name": "ipython",
    "version": 3
   },
   "file_extension": ".py",
   "mimetype": "text/x-python",
   "name": "python",
   "nbconvert_exporter": "python",
   "pygments_lexer": "ipython3",
   "version": "3.11.9"
  }
 },
 "nbformat": 4,
 "nbformat_minor": 2
}
