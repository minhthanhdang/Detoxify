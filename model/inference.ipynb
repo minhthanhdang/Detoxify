{
 "cells": [
  {
   "cell_type": "code",
   "execution_count": null,
   "metadata": {},
   "outputs": [],
   "source": [
    "from torch import nn\n",
    "from transformers import BertModel"
   ]
  },
  {
   "cell_type": "code",
   "execution_count": null,
   "metadata": {},
   "outputs": [],
   "source": [
    "class BERTClassifier(nn.Module):\n",
    "    \n",
    "  def __init__(self):\n",
    "      \n",
    "    # Specify network layers\n",
    "    super(BERTClassifier, self).__init__()\n",
    "    self.bert = BertModel.from_pretrained('bert-base-uncased')\n",
    "    \n",
    "    self.avg_pool = nn.AdaptiveAvgPool1d(1)\n",
    "    \n",
    "    self.linear = nn.Linear(self.bert.config.hidden_size, 1)\n",
    "    \n",
    "    # Define dropout\n",
    "    self.dropout = nn.Dropout(0.1)\n",
    "    \n",
    "    # Freeze BERT layers\n",
    "    for n, p in self.bert.named_parameters():\n",
    "      p.requires_grad = False\n",
    "\n",
    "  def forward(self, text, masks):\n",
    "    \n",
    "    output_bert = self.bert(text, attention_mask=masks).last_hidden_state\n",
    "    output_bert = self.avg_pool(output_bert.transpose(1, 2)).squeeze(-1)\n",
    "    \n",
    "    return self.linear(self.dropout(output_bert))\n",
    "  \n"
   ]
  },
  {
   "cell_type": "code",
   "execution_count": null,
   "metadata": {},
   "outputs": [
    {
     "name": "stderr",
     "output_type": "stream",
     "text": [
      "/var/folders/t8/rdxqv77j1bz5zsm7dd6c_szh0000gn/T/ipykernel_69628/1137289105.py:7: FutureWarning: You are using `torch.load` with `weights_only=False` (the current default value), which uses the default pickle module implicitly. It is possible to construct malicious pickle data which will execute arbitrary code during unpickling (See https://github.com/pytorch/pytorch/blob/main/SECURITY.md#untrusted-models for more details). In a future release, the default value for `weights_only` will be flipped to `True`. This limits the functions that could be executed during unpickling. Arbitrary objects will no longer be allowed to be loaded via this mode unless they are explicitly allowlisted by the user via `torch.serialization.add_safe_globals`. We recommend you start setting `weights_only=True` for any use case where you don't have full control of the loaded file. Please open an issue on GitHub for any issues related to this experimental feature.\n",
      "  model.load_state_dict(torch.load(\"model/v8/bert_classifier.pth\"))\n"
     ]
    },
    {
     "name": "stdout",
     "output_type": "stream",
     "text": [
      "0.7892874479293823\n",
      "Predicted label: hate speech\n"
     ]
    }
   ],
   "source": [
    "from transformers import AutoTokenizer\n",
    "import torch\n",
    "\n",
    "# Load the model and tokenizer\n",
    "tokenizer = AutoTokenizer.from_pretrained(\"bert-base-uncased\")\n",
    "model = BERTClassifier()\n",
    "\n",
    "#####################################################\n",
    "#### Specify the path to the model state dict!!! ####\n",
    "#####################################################\n",
    "model.load_state_dict(torch.load(\"model/v8/bert_classifier.pth\"))\n",
    "\n",
    "model.eval()\n",
    "\n",
    "# Input text\n",
    "input_text = \"The meeting sucks. I hate it.\"\n",
    "\n",
    "# Tokenize the input\n",
    "inputs = tokenizer(input_text, return_tensors=\"pt\", truncation=True, padding=True, max_length=512)\n",
    "\n",
    "# Perform inference\n",
    "with torch.no_grad():\n",
    "    outputs = model(inputs['input_ids'], masks=inputs['attention_mask'])\n",
    "\n",
    "# Get the predicted class\n",
    "logits = outputs\n",
    "probability = torch.sigmoid(logits).item()\n",
    "print(probability)\n",
    "\n",
    "# Threshold the probability to get the predicted class\n",
    "predicted_class = 1 if probability > 0.5 else 0\n",
    "\n",
    "# Map to label\n",
    "label_map = {0: \"not toxic\", 1: \"toxic\"}\n",
    "predicted_label = label_map[predicted_class]\n",
    "\n",
    "print(f\"Predicted label: {predicted_label}\")"
   ]
  }
 ],
 "metadata": {
  "kernelspec": {
   "display_name": "ai_py311",
   "language": "python",
   "name": "python3"
  },
  "language_info": {
   "codemirror_mode": {
    "name": "ipython",
    "version": 3
   },
   "file_extension": ".py",
   "mimetype": "text/x-python",
   "name": "python",
   "nbconvert_exporter": "python",
   "pygments_lexer": "ipython3",
   "version": "3.11.9"
  }
 },
 "nbformat": 4,
 "nbformat_minor": 2
}
